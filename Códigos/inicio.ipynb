{
 "cells": [
  {
   "cell_type": "markdown",
   "metadata": {},
   "source": [
    "# Inicio do Código\n",
    "\n",
    "Os códigos deste projeto serão feitos usando notebooks jupyter para facilitar a compreensão das etapas, separando comentários e explicações do código em si."
   ]
  },
  {
   "cell_type": "code",
   "execution_count": 4,
   "metadata": {},
   "outputs": [
    {
     "name": "stdout",
     "output_type": "stream",
     "text": [
      "Hora UTC:   2025-02-20 00:50:42\n",
      "Hora Local: 2025-02-19 21:50:42\n",
      "200\n"
     ]
    }
   ],
   "source": [
    "from datetime import datetime, timezone\n",
    "import requests\n",
    "\n",
    "dh_utc = datetime.now(timezone.utc).strftime('%Y-%m-%d %H:%M:%S')\n",
    "dh_local = datetime.now().strftime('%Y-%m-%d %H:%M:%S')\n",
    "\n",
    "print(\"Hora UTC:   \" + dh_utc + \"\\nHora Local: \" + dh_local)\n",
    "\n",
    "teste = requests.get('https://www.google.com')\n",
    "print(teste.status_code)"
   ]
  },
  {
   "cell_type": "code",
   "execution_count": null,
   "metadata": {},
   "outputs": [],
   "source": [
    "# pipreqs \"local/para/salvar\" --force\n",
    "# código tem que estar na mesma pasta do requirements.txt\n",
    "# código deve ser arquivo .py\n",
    "# --force sobrescreve o arquivo requirements.txt"
   ]
  },
  {
   "cell_type": "markdown",
   "metadata": {},
   "source": [
    "\n",
    "1) Verificando regras do site: https://www.reclameaqui.com.br/robots.txt\n",
    "-  /respondendo/, /busca/, /confieaqui/, e /reclamar/ são os diretórios que o site não permite acessar\n",
    "-  Site aponta limite de uma requisição a cada 10 segundos (Crawl-delay: 10) (não é exatamente o nosso caso, mas iremos respeitar)\n",
    "\n",
    "2) Focos das extrações (Exemplo: KaBuM):\n",
    "- Site raiz da extração (https://www.reclameaqui.com.br/empresa/kabum/)\n",
    "  - Informações dessa parte são interessantes para compor um painel de resumo da empresa junto com seus principais problemas\n",
    "  - Nota média da empresa nos últimos 6 meses\n",
    "  - Capturar painel de desempenho à esquerda, separando extrações de todos os tempos (Clicando em cada tempo) (Olhando hoje, temos: 6 meses, 12 meses, 2024, 2023 e Geral)\n",
    "    - CSS Path: html body div#__next div.sc-1mzw716-0.dRjSTx div.sc-1mzw716-1.bbfAHr section#home.sc-najywk-0.hwxVyE section.sc-najywk-1.bjapWF.row div.sc-1sezauu-1.etzlPS.col-xs-12.col-sm-4.col-md-3.col-lg-3 div.sc-1u6jgjn-0.fmpJEj div#newPerformanceCard.sc-fbKhjd.hwZule.sc-xh9b9g-0.uWmSg div.go267425901\n",
    "    - XPATH: /html/body/div/div[3]/div/section/section/div[2]/div[2]/div[1]/div[2]\n",
    "  - Capturar principais problemas (Clicar no ícone à direita para expandir itens) \n",
    "    - Precisamos trazer tanto o principal item de cada tipo com seu %, assim como os abaixo (entendendo que o primeiro item da sublista é o mesmo que o principal)\n",
    "    - XPATH: /html/body/div/div[3]/div/section/section/div[3]/div[2]/div\n",
    "- Reclamações (https://www.reclameaqui.com.br/empresa/kabum/lista-reclamacoes/)\n",
    "  - Capturar distribuição de reclamações por status (**Total, Não respondidas, Respondidas e Avaliadas**)\n",
    "  - Capturar abertura total de filtros de reclamações à direita (lista completa de problemas por tipo de problema, categoria e produtos ou serviços)\n",
    "  - Capturar lista de reclamações Não respondidas, Respondidas e Avaliadas com base no número de páginas a ser fornecido pelo usuário (me recordo de haver repetição de reclamação a partir de determinada página, testar isso) **Observado que, se um grande número de páginas for apontado, pode ser que o código demore muito pelo sleep de 10 segundos.**"
   ]
  },
  {
   "cell_type": "code",
   "execution_count": null,
   "metadata": {},
   "outputs": [],
   "source": []
  },
  {
   "cell_type": "markdown",
   "metadata": {},
   "source": []
  }
 ],
 "metadata": {
  "kernelspec": {
   "display_name": "Python 3",
   "language": "python",
   "name": "python3"
  },
  "language_info": {
   "codemirror_mode": {
    "name": "ipython",
    "version": 3
   },
   "file_extension": ".py",
   "mimetype": "text/x-python",
   "name": "python",
   "nbconvert_exporter": "python",
   "pygments_lexer": "ipython3",
   "version": "3.13.1"
  }
 },
 "nbformat": 4,
 "nbformat_minor": 2
}
