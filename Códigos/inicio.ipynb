{
 "cells": [
  {
   "cell_type": "markdown",
   "metadata": {},
   "source": [
    "# Inicio do Código\n",
    "\n",
    "Os códigos deste projeto serão feitos usando notebooks jupyter para facilitar a compreensão das etapas, separando comentários e explicações do código em si."
   ]
  },
  {
   "cell_type": "code",
   "execution_count": 29,
   "metadata": {},
   "outputs": [
    {
     "name": "stdout",
     "output_type": "stream",
     "text": [
      "Hora UTC:   2025-01-21 16:12:11\n",
      "Hora Local: 2025-01-21 13:12:11\n"
     ]
    }
   ],
   "source": [
    "from datetime import datetime, timezone\n",
    "\n",
    "dh_utc = datetime.now(timezone.utc).strftime('%Y-%m-%d %H:%M:%S')\n",
    "dh_local = datetime.now().strftime('%Y-%m-%d %H:%M:%S')\n",
    "\n",
    "print(\"Hora UTC:   \" + dh_utc + \"\\nHora Local: \" + dh_local)\n"
   ]
  }
 ],
 "metadata": {
  "kernelspec": {
   "display_name": "Python 3",
   "language": "python",
   "name": "python3"
  },
  "language_info": {
   "codemirror_mode": {
    "name": "ipython",
    "version": 3
   },
   "file_extension": ".py",
   "mimetype": "text/x-python",
   "name": "python",
   "nbconvert_exporter": "python",
   "pygments_lexer": "ipython3",
   "version": "3.13.1"
  }
 },
 "nbformat": 4,
 "nbformat_minor": 2
}
